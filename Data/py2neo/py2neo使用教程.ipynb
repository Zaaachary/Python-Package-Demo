{
 "cells": [
  {
   "cell_type": "markdown",
   "metadata": {},
   "source": [
    "# py2neo 使用教程\n",
    "[简书](https://www.jianshu.com/p/febe8a248582)"
   ]
  },
  {
   "cell_type": "code",
   "execution_count": 29,
   "metadata": {},
   "outputs": [],
   "source": [
    "from py2neo import Graph,Node,Relationship\n",
    "graph = Graph(\"bolt://localhost:7687\",auth=(\"neo4j\",\"password\"))"
   ]
  },
  {
   "cell_type": "markdown",
   "metadata": {},
   "source": [
    "## 链接"
   ]
  },
  {
   "cell_type": "code",
   "execution_count": 30,
   "metadata": {},
   "outputs": [],
   "source": [
    "# 创建节点Node和关系Relationship\n",
    "a = Node(\"Person\", name=\"Alice\")\n",
    "b = Node(\"Person\", name=\"Bob\")\n",
    "ab = Relationship(a, \"KNOWS\", b)\n",
    "# graph.create(ab)"
   ]
  },
  {
   "cell_type": "markdown",
   "metadata": {},
   "source": [
    "## 数据对象 Object\n",
    "### Node"
   ]
  },
  {
   "cell_type": "code",
   "execution_count": 31,
   "metadata": {},
   "outputs": [
    {
     "name": "stdout",
     "output_type": "stream",
     "text": [
      "<class 'py2neo.data.Node'>\n",
      "Alice (:Person {name: 'Alice'})\n"
     ]
    }
   ],
   "source": [
    "print(type(a))\n",
    "node = a\n",
    "print(node['name'], node)"
   ]
  },
  {
   "cell_type": "code",
   "execution_count": 32,
   "metadata": {},
   "outputs": [
    {
     "name": "stdout",
     "output_type": "stream",
     "text": [
      "(:Person {age: '22', name: 'Alice'})\n"
     ]
    }
   ],
   "source": [
    "node['age'] = '22'\n",
    "print(node)"
   ]
  },
  {
   "cell_type": "code",
   "execution_count": 33,
   "metadata": {},
   "outputs": [
    {
     "data": {
      "text/plain": [
       "{'name': 'Alice', 'age': '22'}"
      ]
     },
     "execution_count": 33,
     "metadata": {},
     "output_type": "execute_result"
    }
   ],
   "source": [
    "#将node的所有property以dictionary的形式返回\n",
    "dict(node)"
   ]
  },
  {
   "cell_type": "code",
   "execution_count": 34,
   "metadata": {},
   "outputs": [
    {
     "data": {
      "text/plain": [
       "Node('Person', name='Alice')"
      ]
     },
     "execution_count": 34,
     "metadata": {},
     "output_type": "execute_result"
    }
   ],
   "source": [
    "del node['age']\n",
    "node"
   ]
  },
  {
   "cell_type": "code",
   "execution_count": 35,
   "metadata": {},
   "outputs": [
    {
     "data": {
      "text/plain": [
       "(:Person, py2neo.cypher.encoding.LabelSetView)"
      ]
     },
     "execution_count": 35,
     "metadata": {},
     "output_type": "execute_result"
    }
   ],
   "source": [
    "#返回所以和这个节点有关的label\n",
    "labels = node.labels\n",
    "labels, type(labels)"
   ]
  },
  {
   "cell_type": "code",
   "execution_count": 22,
   "metadata": {},
   "outputs": [
    {
     "ename": "TypeError",
     "evalue": "'LabelSetView' object is not callable",
     "output_type": "error",
     "traceback": [
      "\u001b[1;31m---------------------------------------------------------------------------\u001b[0m",
      "\u001b[1;31mTypeError\u001b[0m                                 Traceback (most recent call last)",
      "\u001b[1;32m<ipython-input-22-6074ed1df6d9>\u001b[0m in \u001b[0;36m<module>\u001b[1;34m\u001b[0m\n\u001b[0;32m      1\u001b[0m \u001b[1;31m#删除某个label\u001b[0m\u001b[1;33m\u001b[0m\u001b[1;33m\u001b[0m\u001b[1;33m\u001b[0m\u001b[0m\n\u001b[1;32m----> 2\u001b[1;33m \u001b[0mnode\u001b[0m\u001b[1;33m.\u001b[0m\u001b[0mlabels\u001b[0m\u001b[1;33m.\u001b[0m\u001b[0mremove\u001b[0m\u001b[1;33m(\u001b[0m\u001b[1;34m'Person'\u001b[0m\u001b[1;33m)\u001b[0m\u001b[1;33m\u001b[0m\u001b[1;33m\u001b[0m\u001b[0m\n\u001b[0m\u001b[0;32m      3\u001b[0m \u001b[0mnode\u001b[0m\u001b[1;33m\u001b[0m\u001b[1;33m\u001b[0m\u001b[0m\n",
      "\u001b[1;31mTypeError\u001b[0m: 'LabelSetView' object is not callable"
     ]
    }
   ],
   "source": [
    "#删除某个label\n",
    "node.labels.remove('Person')\n",
    "node"
   ]
  },
  {
   "cell_type": "code",
   "execution_count": 36,
   "metadata": {},
   "outputs": [
    {
     "name": "stdout",
     "output_type": "stream",
     "text": [
      "Help on LabelSetView in module py2neo.cypher.encoding object:\n",
      "\n",
      "class LabelSetView(py2neo.collections.SetView)\n",
      " |  LabelSetView(elements=(), selected=(), **kwargs)\n",
      " |  \n",
      " |  A set is a finite, iterable container.\n",
      " |  \n",
      " |  This class provides concrete generic implementations of all\n",
      " |  methods except for __contains__, __iter__ and __len__.\n",
      " |  \n",
      " |  To override the comparisons (presumably for speed, as the\n",
      " |  semantics are fixed), redefine __le__ and __ge__,\n",
      " |  then the other operations will automatically follow suit.\n",
      " |  \n",
      " |  Method resolution order:\n",
      " |      LabelSetView\n",
      " |      py2neo.collections.SetView\n",
      " |      collections.abc.Set\n",
      " |      collections.abc.Collection\n",
      " |      collections.abc.Sized\n",
      " |      collections.abc.Iterable\n",
      " |      collections.abc.Container\n",
      " |      builtins.object\n",
      " |  \n",
      " |  Methods defined here:\n",
      " |  \n",
      " |  __getattr__(self, element)\n",
      " |  \n",
      " |  __init__(self, elements=(), selected=(), **kwargs)\n",
      " |      Initialize self.  See help(type(self)) for accurate signature.\n",
      " |  \n",
      " |  __repr__(self)\n",
      " |      Return repr(self).\n",
      " |  \n",
      " |  ----------------------------------------------------------------------\n",
      " |  Data and other attributes defined here:\n",
      " |  \n",
      " |  __abstractmethods__ = frozenset()\n",
      " |  \n",
      " |  ----------------------------------------------------------------------\n",
      " |  Methods inherited from py2neo.collections.SetView:\n",
      " |  \n",
      " |  __contains__(self, element)\n",
      " |  \n",
      " |  __eq__(self, other)\n",
      " |      Return self==value.\n",
      " |  \n",
      " |  __iter__(self)\n",
      " |  \n",
      " |  __len__(self)\n",
      " |  \n",
      " |  __ne__(self, other)\n",
      " |      Return self!=value.\n",
      " |  \n",
      " |  difference(self, other)\n",
      " |  \n",
      " |  ----------------------------------------------------------------------\n",
      " |  Data descriptors inherited from py2neo.collections.SetView:\n",
      " |  \n",
      " |  __dict__\n",
      " |      dictionary for instance variables (if defined)\n",
      " |  \n",
      " |  __weakref__\n",
      " |      list of weak references to the object (if defined)\n",
      " |  \n",
      " |  ----------------------------------------------------------------------\n",
      " |  Data and other attributes inherited from py2neo.collections.SetView:\n",
      " |  \n",
      " |  __hash__ = None\n",
      " |  \n",
      " |  ----------------------------------------------------------------------\n",
      " |  Methods inherited from collections.abc.Set:\n",
      " |  \n",
      " |  __and__(self, other)\n",
      " |  \n",
      " |  __ge__(self, other)\n",
      " |      Return self>=value.\n",
      " |  \n",
      " |  __gt__(self, other)\n",
      " |      Return self>value.\n",
      " |  \n",
      " |  __le__(self, other)\n",
      " |      Return self<=value.\n",
      " |  \n",
      " |  __lt__(self, other)\n",
      " |      Return self<value.\n",
      " |  \n",
      " |  __or__(self, other)\n",
      " |  \n",
      " |  __rand__ = __and__(self, other)\n",
      " |  \n",
      " |  __ror__ = __or__(self, other)\n",
      " |  \n",
      " |  __rsub__(self, other)\n",
      " |  \n",
      " |  __rxor__ = __xor__(self, other)\n",
      " |  \n",
      " |  __sub__(self, other)\n",
      " |  \n",
      " |  __xor__(self, other)\n",
      " |  \n",
      " |  isdisjoint(self, other)\n",
      " |      Return True if two sets have a null intersection.\n",
      " |  \n",
      " |  ----------------------------------------------------------------------\n",
      " |  Class methods inherited from collections.abc.Collection:\n",
      " |  \n",
      " |  __subclasshook__(C) from abc.ABCMeta\n",
      " |      Abstract classes can override this to customize issubclass().\n",
      " |      \n",
      " |      This is invoked early on by abc.ABCMeta.__subclasscheck__().\n",
      " |      It should return True, False or NotImplemented.  If it returns\n",
      " |      NotImplemented, the normal algorithm is used.  Otherwise, it\n",
      " |      overrides the normal algorithm (and the outcome is cached).\n",
      "\n"
     ]
    }
   ],
   "source": [
    "help(node.labels)"
   ]
  },
  {
   "cell_type": "markdown",
   "metadata": {},
   "source": [
    "### Relationship"
   ]
  },
  {
   "cell_type": "code",
   "execution_count": 41,
   "metadata": {},
   "outputs": [
    {
     "name": "stdout",
     "output_type": "stream",
     "text": [
      "None\n"
     ]
    },
    {
     "data": {
      "text/plain": [
       "{}"
      ]
     },
     "execution_count": 41,
     "metadata": {},
     "output_type": "execute_result"
    }
   ],
   "source": [
    "#创建Relationship\n",
    "# ab = Relationship(a, \"KNOWS\", b)\n",
    "# Relationship(*start_node*, *type*, *end_node*, ***properties*)\n",
    "relationship = ab\n",
    "#返回Relationship的property\n",
    "print(relationship['KNOWS'])\n",
    "#删除某个property\n",
    "# del relationship[key]\n",
    "#将relationship的所有property以dictionary的形式返回\n",
    "dict(relationship)"
   ]
  },
  {
   "cell_type": "code",
   "execution_count": 47,
   "metadata": {},
   "outputs": [
    {
     "data": {
      "text/plain": [
       "(py2neo.data.KNOWS,\n",
       " KNOWS(Node('Person', name='Alice'), Node('Person', name='Bob')))"
      ]
     },
     "execution_count": 47,
     "metadata": {},
     "output_type": "execute_result"
    }
   ],
   "source": [
    "type(ab), ab"
   ]
  },
  {
   "cell_type": "markdown",
   "metadata": {},
   "source": [
    "## 查询 Query\n",
    "\n",
    "或者使用 py2neo.matching包里面的NodeMatcher(graph) 函数构建个matcher再查询（其实上面的方法就调用的这个东西), 首先创建Matcher来执行查询，它会返回一个Match类型的数据，可以继续使用where(),first(),order_by等操作，可以用list强制转换"
   ]
  },
  {
   "cell_type": "code",
   "execution_count": 69,
   "metadata": {},
   "outputs": [],
   "source": [
    "from py2neo import NodeMatcher"
   ]
  },
  {
   "cell_type": "code",
   "execution_count": 70,
   "metadata": {},
   "outputs": [
    {
     "data": {
      "text/plain": [
       "[Node('Country', name='China')]"
      ]
     },
     "execution_count": 70,
     "metadata": {},
     "output_type": "execute_result"
    }
   ],
   "source": [
    "# 对node的查询\n",
    "graph.nodes.match('Country').all()"
   ]
  },
  {
   "cell_type": "code",
   "execution_count": 57,
   "metadata": {},
   "outputs": [
    {
     "name": "stdout",
     "output_type": "stream",
     "text": [
      "(_0:Person {name: 'Alice'})\n",
      "[Node('Person', name='Alice'), Node('Person', name='Alice')]\n"
     ]
    }
   ],
   "source": [
    "graph = Graph()\n",
    "matcher = NodeMatcher(graph)\n",
    "print(matcher.match(\"Person\", name=\"Alice\").first())\n",
    "print(matcher.match(\"Person\", name=\"Alice\").all())\n",
    "#结果 (_224:Person {born:1964,name:\"Keanu Reeves\"})"
   ]
  },
  {
   "cell_type": "code",
   "execution_count": 58,
   "metadata": {},
   "outputs": [
    {
     "data": {
      "text/plain": [
       "[Node('Person', name='Alice'), Node('Person', name='Alice')]"
      ]
     },
     "execution_count": 58,
     "metadata": {},
     "output_type": "execute_result"
    }
   ],
   "source": [
    "# where里面使用_指向当前node\n",
    "list(matcher.match(\"Person\").where(\"_.name =~ 'A.*'\"))"
   ]
  },
  {
   "cell_type": "code",
   "execution_count": 66,
   "metadata": {},
   "outputs": [
    {
     "data": {
      "text/plain": [
       "[KNOWS(Node('Person', name='Alice'), Node('Person', name='Bob')),\n",
       " KNOWS(Node('Person', name='Alice'), Node('Person', name='Bob')),\n",
       " HoldIn(Node('WOG', num=24), Node('Country', name='China'))]"
      ]
     },
     "execution_count": 66,
     "metadata": {},
     "output_type": "execute_result"
    }
   ],
   "source": [
    "graph.match(nodes=None, r_type=None, limit=None).all() # 找到所有的relationships"
   ]
  },
  {
   "cell_type": "code",
   "execution_count": 68,
   "metadata": {},
   "outputs": [
    {
     "data": {
      "text/plain": [
       "[Node('Country', name='China')]"
      ]
     },
     "execution_count": 68,
     "metadata": {},
     "output_type": "execute_result"
    }
   ],
   "source": []
  },
  {
   "cell_type": "markdown",
   "metadata": {},
   "source": [
    "## 更新"
   ]
  },
  {
   "cell_type": "code",
   "execution_count": 62,
   "metadata": {},
   "outputs": [],
   "source": [
    "from py2neo import Graph, NodeMatcher, Subgraph"
   ]
  },
  {
   "cell_type": "code",
   "execution_count": 73,
   "metadata": {},
   "outputs": [
    {
     "name": "stdout",
     "output_type": "stream",
     "text": [
      "<class 'py2neo.matching.NodeMatch'>\n",
      "[Node('Country', name='China')]\n"
     ]
    }
   ],
   "source": [
    "tx = graph.begin()\n",
    "matcher = NodeMatcher(graph)\n",
    "nodes = matcher.match(\"Country\")\n",
    "print(type(nodes))\n",
    "# 将返回的“Match”类转成list\n",
    "new_nodes = list(nodes)\n",
    "print(new_nodes)"
   ]
  },
  {
   "cell_type": "code",
   "execution_count": 75,
   "metadata": {},
   "outputs": [
    {
     "data": {
      "text/plain": [
       "<Bookmark 'FB:kcwQ34ZR8trdSyaHqO4NndsVTwuQ'>"
      ]
     },
     "execution_count": 75,
     "metadata": {},
     "output_type": "execute_result"
    }
   ],
   "source": [
    "## 添加你要修改的东西\n",
    "# for node in new_nodes:\n",
    "#     node['tag'] = node['tag'].split(',')\n",
    "# 里面是Node的list可以作为Subgraph的参数\n",
    "\n",
    "sub = Subgraph(nodes=new_nodes)   # 由 Node List 更新\n",
    "# 调用push更新\n",
    "tx.push(sub)\n",
    "tx.commit()"
   ]
  },
  {
   "cell_type": "code",
   "execution_count": 81,
   "metadata": {},
   "outputs": [
    {
     "data": {
      "text/plain": [
       "[Node('Person', name='Alice'),\n",
       " Node('Person', name='Bob'),\n",
       " Node('Person', name='Alice'),\n",
       " Node('Person', name='Bob'),\n",
       " Node('WOG', num=24),\n",
       " Node('Country', name='China')]"
      ]
     },
     "execution_count": 81,
     "metadata": {},
     "output_type": "execute_result"
    }
   ],
   "source": [
    "graph.nodes.match().all()"
   ]
  },
  {
   "cell_type": "markdown",
   "metadata": {},
   "source": [
    "## 批处理\n",
    "对于大量的插入一般是很费时的，首先我们可以使用事务，加快一定速度，\n",
    "而插入的方法一样重要，我们很多时候是遍历一个文件然后生成图，\n",
    "例子中我们生成每个Node后，先把他们放入一个List中，再变为Subgraph实例,然后再create(),耗时比一条条插入至少快10倍以上\n"
   ]
  },
  {
   "cell_type": "code",
   "execution_count": null,
   "metadata": {},
   "outputs": [],
   "source": [
    "tx = graph.begin()\n",
    "nodes=[]\n",
    "for line in lineLists:\n",
    "    oneNode = Node()\n",
    "    ........\n",
    "    #这里的循环，一般是把文件的数据存入node中\n",
    "    nodes.append(oneNode)\n",
    "nodes=neo.Subgraph(nodes)\n",
    "tx.create(nodes)\n",
    "tx.commit()"
   ]
  },
  {
   "cell_type": "markdown",
   "metadata": {},
   "source": [
    "前面我们说了关系的创建，如果在node存进去后，再通过py2neo层面的“查找node,create关系”\n",
    "这样的效率是很低的，时间主要花在通过\"reference Id\"去一个个去查找对应的node,\n",
    "然后再和这个node建立关系，这里强烈推荐使用原生语句，效率不是一般的高\n"
   ]
  },
  {
   "cell_type": "code",
   "execution_count": null,
   "metadata": {},
   "outputs": [],
   "source": [
    "#假定我们已经把两种node存进去了，label分别是Post和User,现在需要在他们间建立某关系\n",
    "graph.run(\"MATCH (p:Post),(u:User) \\\n",
    "                WHERE p.OwnerUserId = u.Id \\\n",
    "                CREATE (u)-[:Own]->(p)\")"
   ]
  }
 ],
 "metadata": {
  "kernelspec": {
   "display_name": "winter",
   "language": "python",
   "name": "winter"
  },
  "language_info": {
   "codemirror_mode": {
    "name": "ipython",
    "version": 3
   },
   "file_extension": ".py",
   "mimetype": "text/x-python",
   "name": "python",
   "nbconvert_exporter": "python",
   "pygments_lexer": "ipython3",
   "version": "3.7.9"
  }
 },
 "nbformat": 4,
 "nbformat_minor": 4
}
